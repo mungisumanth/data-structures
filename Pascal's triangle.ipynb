{
 "cells": [
  {
   "cell_type": "code",
   "execution_count": 15,
   "id": "c59e20f3",
   "metadata": {},
   "outputs": [
    {
     "name": "stdout",
     "output_type": "stream",
     "text": [
      "Enter row number: 7\n"
     ]
    }
   ],
   "source": [
    "n = int(input(\"Enter row number: \"))"
   ]
  },
  {
   "cell_type": "code",
   "execution_count": 16,
   "id": "7eba680f",
   "metadata": {},
   "outputs": [],
   "source": [
    "list1 = []\n",
    "for i in range(n):\n",
    "    temp_list = []\n",
    "    for j in range(i+1):\n",
    "        if j==0 or j==i:\n",
    "            temp_list.append(1)\n",
    "        else:\n",
    "            temp_list.append(list1[i-1][j-1] + list1[i-1][j])\n",
    "    list1.append(temp_list)"
   ]
  },
  {
   "cell_type": "code",
   "execution_count": 17,
   "id": "9548db2d",
   "metadata": {},
   "outputs": [
    {
     "name": "stdout",
     "output_type": "stream",
     "text": [
      "            1   \n",
      "          1   1   \n",
      "        1   2   1   \n",
      "      1   3   3   1   \n",
      "    1   4   6   4   1   \n",
      "  1   5   10  10  5   1   \n",
      "1   6   15  20  15  6   1   \n"
     ]
    }
   ],
   "source": [
    "# printing the pascal's triangle\n",
    "for i in range(n):\n",
    "    for j in range(n-i-1):\n",
    "        print(format(\" \", \"<2\"), end = \"\")\n",
    "    for j in range(i+1):\n",
    "        print(format(list1[i][j], \"<4\"), end = \"\")\n",
    "    print()"
   ]
  },
  {
   "cell_type": "code",
   "execution_count": null,
   "id": "ba812b6b",
   "metadata": {},
   "outputs": [],
   "source": []
  }
 ],
 "metadata": {
  "kernelspec": {
   "display_name": "Python 3 (ipykernel)",
   "language": "python",
   "name": "python3"
  },
  "language_info": {
   "codemirror_mode": {
    "name": "ipython",
    "version": 3
   },
   "file_extension": ".py",
   "mimetype": "text/x-python",
   "name": "python",
   "nbconvert_exporter": "python",
   "pygments_lexer": "ipython3",
   "version": "3.9.12"
  }
 },
 "nbformat": 4,
 "nbformat_minor": 5
}
